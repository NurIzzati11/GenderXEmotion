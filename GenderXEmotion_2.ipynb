{
  "nbformat": 4,
  "nbformat_minor": 0,
  "metadata": {
    "colab": {
      "name": "GenderXEmotion_2.ipynb",
      "provenance": [],
      "authorship_tag": "ABX9TyNetmrT8wthXNWSQFa0LISU",
      "include_colab_link": true
    },
    "kernelspec": {
      "name": "python3",
      "display_name": "Python 3"
    },
    "language_info": {
      "name": "python"
    }
  },
  "cells": [
    {
      "cell_type": "markdown",
      "metadata": {
        "id": "view-in-github",
        "colab_type": "text"
      },
      "source": [
        "<a href=\"https://colab.research.google.com/github/NurIzzati11/GenderXEmotion/blob/main/GenderXEmotion_2.ipynb\" target=\"_parent\"><img src=\"https://colab.research.google.com/assets/colab-badge.svg\" alt=\"Open In Colab\"/></a>"
      ]
    },
    {
      "cell_type": "markdown",
      "source": [
        "# **Using DeepFace & CV2**"
      ],
      "metadata": {
        "id": "EzBMFCT120H-"
      }
    },
    {
      "cell_type": "markdown",
      "source": [
        "Note: Using built in DeepFace and OpenCV\n",
        " - faster output as the model has pre-trained\n",
        " - why pre-trained? bcs dataset is huge, takes alot of computation time to reach best model accuracy (97.35% ± 0.25% accuracy level)"
      ],
      "metadata": {
        "id": "N7r6VEr-2t8y"
      }
    },
    {
      "cell_type": "code",
      "source": [
        "from deepface import DeepFace\n",
        "import cv2\n",
        "from google.colab.patches import cv2_imshow\n",
        "import matplotlib.pyplot as plt\n",
        "from tkinter import filedialog\n",
        "import PIL\n",
        "from keras.preprocessing.image import load_img"
      ],
      "metadata": {
        "id": "IsuP5NRww3N3"
      },
      "execution_count": 63,
      "outputs": []
    },
    {
      "cell_type": "code",
      "source": [
        "!git clone https://github.com/NurIzzati11/male-female-faceDataset"
      ],
      "metadata": {
        "colab": {
          "base_uri": "https://localhost:8080/"
        },
        "id": "w201JznoSCLi",
        "outputId": "d3eceb96-8b7c-4442-9c5a-8317074fa991"
      },
      "execution_count": 29,
      "outputs": [
        {
          "output_type": "stream",
          "name": "stdout",
          "text": [
            "fatal: destination path 'male-female-faceDataset' already exists and is not an empty directory.\n"
          ]
        }
      ]
    },
    {
      "cell_type": "code",
      "source": [
        "img_path = \"/content/male-female-faceDataset/Training/female/131422.jpg.jpg\"\n",
        "img = cv2.imread(img_path)"
      ],
      "metadata": {
        "id": "avLdYLY3w-Hx"
      },
      "execution_count": 30,
      "outputs": []
    },
    {
      "cell_type": "code",
      "source": [
        "def result(img_path):\n",
        "  demography = DeepFace.analyze(img_path)\n",
        "  emotion = demography['dominant_emotion']\n",
        "  gender = demography['gender']\n",
        "  cv2_imshow(img_path)\n",
        "  print(\"Gender:\" + gender)\n",
        "  print(\"Emotion:\" + emotion)"
      ],
      "metadata": {
        "id": "GGoLCT1z1w1x"
      },
      "execution_count": 46,
      "outputs": []
    },
    {
      "cell_type": "code",
      "source": [
        "result(img)"
      ],
      "metadata": {
        "colab": {
          "base_uri": "https://localhost:8080/",
          "height": 183
        },
        "id": "dfPkXAg22Lhy",
        "outputId": "4f271155-03db-44a0-af87-2a6eb82fc37e"
      },
      "execution_count": 47,
      "outputs": [
        {
          "output_type": "stream",
          "name": "stderr",
          "text": [
            "Action: race: 100%|██████████| 4/4 [00:02<00:00,  1.77it/s]\n"
          ]
        },
        {
          "output_type": "display_data",
          "data": {
            "text/plain": [
              "<PIL.Image.Image image mode=RGB size=92x114 at 0x7FD399D7F190>"
            ],
            "image/png": "[encoded data removed]"
          },
          "metadata": {}
        },
        {
          "output_type": "stream",
          "name": "stdout",
          "text": [
            "Gender:Woman\n",
            "Emotion:happy\n"
          ]
        }
      ]
    },
    {
      "cell_type": "code",
      "source": [
        "import anvil.server\n",
        "anvil.server.connect(\"EFI4VUV74WE3WSM5FGDGTIU6-D5DU3SM2SB4MCT4C\")"
      ],
      "metadata": {
        "id": "U5kjCLNzRslh"
      },
      "execution_count": 76,
      "outputs": []
    },
    {
      "cell_type": "code",
      "source": [
        "import anvil.media\n",
        "\n",
        "@anvil.server.callable\n",
        "def result_new(file):\n",
        "  with anvil.media.TempFile(file) as filename:\n",
        "    imga = cv2.imread(filename)\n",
        "  demography = DeepFace.analyze(imga)\n",
        "  emotion = demography['dominant_emotion']\n",
        "  gender = demography['gender']\n",
        "\n",
        "  return (gender, emotion)\n"
      ],
      "metadata": {
        "id": "b0RB5xmqTWfR"
      },
      "execution_count": 77,
      "outputs": []
    }
  ]
}